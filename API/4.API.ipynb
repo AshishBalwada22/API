{
 "cells": [
  {
   "cell_type": "markdown",
   "metadata": {},
   "source": [
    "-  requests=get,post\n",
    "- API= dog , cities , weather ,nasa"
   ]
  },
  {
   "cell_type": "code",
   "execution_count": 5,
   "metadata": {},
   "outputs": [
    {
     "name": "stdout",
     "output_type": "stream",
     "text": [
      "200\n",
      "None\n",
      "https://codingninjas.in/api/v3/courses\n",
      "{'Date': 'Fri, 08 May 2020 16:54:01 GMT', 'Content-Type': 'application/json', 'Transfer-Encoding': 'chunked', 'Connection': 'keep-alive', 'Server': 'nginx/1.4.6 (Ubuntu)', 'X-Frame-Options': 'SAMEORIGIN', 'X-XSS-Protection': '1; mode=block', 'X-Content-Type-Options': 'nosniff', 'Access-Control-Allow-Origin': '*', 'Access-Control-Allow-Methods': 'POST, GET, PUT, DELETE, OPTIONS', 'Access-Control-Allow-Headers': 'Access-Control-Allow-Headers, Origin,Accept, X-Requested-With, Content-Type, Access-Control-Request-Method, Access-Control-Request-Headers, Authorization', 'Access-Control-Max-Age': '1728000', 'ETag': 'W/\"db3168b4b59e8c41e870108d5fa15964\"', 'Cache-Control': 'max-age=0, private, must-revalidate', 'X-Request-Id': 'a56f0136-d9e8-43e4-9827-83810bf01782', 'X-Runtime': '0.019808', 'Strict-Transport-Security': 'max-age=31536000; includeSubDomains;'}\n",
      "application/json\n"
     ]
    }
   ],
   "source": [
    "#requests\n",
    "import requests\n",
    "response=requests.get(\"https://codingninjas.in/api/v3/courses\")\n",
    "print(response.status_code)\n",
    "print(response.encoding)\n",
    "#print(response.text)\n",
    "print(response.url)\n",
    "print(response.headers)\n",
    "print(response.headers[\"Content-Type\"])"
   ]
  },
  {
   "cell_type": "code",
   "execution_count": 9,
   "metadata": {},
   "outputs": [
    {
     "name": "stdout",
     "output_type": "stream",
     "text": [
      "{'student': 'ashish'}\n",
      "<class 'dict'>\n",
      "<class 'str'>\n"
     ]
    }
   ],
   "source": [
    "import json\n",
    "json_data='{\"student\":\"ashish\"}'\n",
    "python_data=json.loads(json_data)\n",
    "print(python_data)\n",
    "print(type(python_data))\n",
    "print(type(python_data['student']))"
   ]
  },
  {
   "cell_type": "code",
   "execution_count": 12,
   "metadata": {},
   "outputs": [
    {
     "name": "stdout",
     "output_type": "stream",
     "text": [
      "{'rollnumber': 100}\n",
      "100\n",
      "<class 'int'>\n"
     ]
    }
   ],
   "source": [
    "json_data='{\"rollnumber\":100}'\n",
    "python_data=json.loads(json_data)\n",
    "print(python_data)\n",
    "print(python_data[\"rollnumber\"])\n",
    "print(type(python_data[\"rollnumber\"]))"
   ]
  },
  {
   "cell_type": "code",
   "execution_count": 13,
   "metadata": {},
   "outputs": [
    {
     "name": "stdout",
     "output_type": "stream",
     "text": [
      "{'rollnumber': None}\n",
      "None\n",
      "<class 'NoneType'>\n"
     ]
    }
   ],
   "source": [
    "json_data='{\"rollnumber\":null}'\n",
    "python_data=json.loads(json_data)\n",
    "print(python_data)\n",
    "print(python_data[\"rollnumber\"])\n",
    "print(type(python_data[\"rollnumber\"]))"
   ]
  },
  {
   "cell_type": "code",
   "execution_count": 14,
   "metadata": {},
   "outputs": [
    {
     "name": "stdout",
     "output_type": "stream",
     "text": [
      "{'student': {'name': 'ashish', 'rollno': 101}}\n",
      "<class 'dict'>\n",
      "{'name': 'ashish', 'rollno': 101}\n",
      "<class 'dict'>\n"
     ]
    }
   ],
   "source": [
    "json_data='{\"student\":{\"name\":\"ashish\",\"rollno\":101}}'\n",
    "python_data=json.loads(json_data)\n",
    "print(python_data)\n",
    "print(type(python_data))\n",
    "print(python_data[\"student\"])\n",
    "print(type(python_data[\"student\"]))"
   ]
  },
  {
   "cell_type": "code",
   "execution_count": 20,
   "metadata": {},
   "outputs": [
    {
     "name": "stdout",
     "output_type": "stream",
     "text": [
      "<class 'dict'>\n",
      "Competitive Programming\n",
      "Ninja Competitive Programmer Track\n",
      "Alchemy\n",
      "Data Science & Machine Learning Complete\n",
      "Advanced  Front-End Web Development with React\n",
      "Full Stack Web Development Course\n",
      "Python\n",
      "Android Development with Kotlin\n",
      "Machine Learning Course\n",
      "Aptitude Preparation Course\n",
      "Nucleus\n",
      "Interview Preparation\n",
      "Envision\n",
      "Ninja Android Developer Career Track \n",
      "Inception\n",
      "Programming Foundation DS & Algo + MERN Stack Web Dev\n",
      "Programming Foundation DS & Algo + Full Stack Web Dev\n",
      "Ninja Data Scientist Career Track\n",
      "Programming Foundation DS & Algo + Machine Learning\n",
      "19\n"
     ]
    }
   ],
   "source": [
    "response=requests.get(\"https://codingninjas.in/api/v3/courses\")\n",
    "#print(response.text)\n",
    "python_data=json.loads(response.text)\n",
    "#print(python_data)\n",
    "print(type(python_data))\n",
    "#extract the list of ll courses\n",
    "all_courses=python_data['data']['courses']\n",
    "for i in all_courses:\n",
    "    print(i['title'])\n",
    "print(len(all_courses))"
   ]
  },
  {
   "cell_type": "code",
   "execution_count": 24,
   "metadata": {},
   "outputs": [
    {
     "name": "stdout",
     "output_type": "stream",
     "text": [
      "<class 'dict'>\n",
      "affenpinscher  :  []\n",
      "african  :  []\n",
      "airedale  :  []\n",
      "akita  :  []\n",
      "appenzeller  :  []\n",
      "australian  :  ['shepherd']\n",
      "basenji  :  []\n",
      "beagle  :  []\n",
      "bluetick  :  []\n",
      "borzoi  :  []\n",
      "bouvier  :  []\n",
      "boxer  :  []\n",
      "brabancon  :  []\n",
      "briard  :  []\n",
      "buhund  :  ['norwegian']\n",
      "bulldog  :  ['boston', 'english', 'french']\n",
      "bullterrier  :  ['staffordshire']\n",
      "cairn  :  []\n",
      "cattledog  :  ['australian']\n",
      "chihuahua  :  []\n",
      "chow  :  []\n",
      "clumber  :  []\n",
      "cockapoo  :  []\n",
      "collie  :  ['border']\n",
      "coonhound  :  []\n",
      "corgi  :  ['cardigan']\n",
      "cotondetulear  :  []\n",
      "dachshund  :  []\n",
      "dalmatian  :  []\n",
      "dane  :  ['great']\n",
      "deerhound  :  ['scottish']\n",
      "dhole  :  []\n",
      "dingo  :  []\n",
      "doberman  :  []\n",
      "elkhound  :  ['norwegian']\n",
      "entlebucher  :  []\n",
      "eskimo  :  []\n",
      "finnish  :  ['lapphund']\n",
      "frise  :  ['bichon']\n",
      "germanshepherd  :  []\n",
      "greyhound  :  ['italian']\n",
      "groenendael  :  []\n",
      "havanese  :  []\n",
      "hound  :  ['afghan', 'basset', 'blood', 'english', 'ibizan', 'plott', 'walker']\n",
      "husky  :  []\n",
      "keeshond  :  []\n",
      "kelpie  :  []\n",
      "komondor  :  []\n",
      "kuvasz  :  []\n",
      "labrador  :  []\n",
      "leonberg  :  []\n",
      "lhasa  :  []\n",
      "malamute  :  []\n",
      "malinois  :  []\n",
      "maltese  :  []\n",
      "mastiff  :  ['bull', 'english', 'tibetan']\n",
      "mexicanhairless  :  []\n",
      "mix  :  []\n",
      "mountain  :  ['bernese', 'swiss']\n",
      "newfoundland  :  []\n",
      "otterhound  :  []\n",
      "ovcharka  :  ['caucasian']\n",
      "papillon  :  []\n",
      "pekinese  :  []\n",
      "pembroke  :  []\n",
      "pinscher  :  ['miniature']\n",
      "pitbull  :  []\n",
      "pointer  :  ['german', 'germanlonghair']\n",
      "pomeranian  :  []\n",
      "poodle  :  ['miniature', 'standard', 'toy']\n",
      "pug  :  []\n",
      "puggle  :  []\n",
      "pyrenees  :  []\n",
      "redbone  :  []\n",
      "retriever  :  ['chesapeake', 'curly', 'flatcoated', 'golden']\n",
      "ridgeback  :  ['rhodesian']\n",
      "rottweiler  :  []\n",
      "saluki  :  []\n",
      "samoyed  :  []\n",
      "schipperke  :  []\n",
      "schnauzer  :  ['giant', 'miniature']\n",
      "setter  :  ['english', 'gordon', 'irish']\n",
      "sheepdog  :  ['english', 'shetland']\n",
      "shiba  :  []\n",
      "shihtzu  :  []\n",
      "spaniel  :  ['blenheim', 'brittany', 'cocker', 'irish', 'japanese', 'sussex', 'welsh']\n",
      "springer  :  ['english']\n",
      "stbernard  :  []\n",
      "terrier  :  ['american', 'australian', 'bedlington', 'border', 'dandie', 'fox', 'irish', 'kerryblue', 'lakeland', 'norfolk', 'norwich', 'patterdale', 'russell', 'scottish', 'sealyham', 'silky', 'tibetan', 'toy', 'westhighland', 'wheaten', 'yorkshire']\n",
      "vizsla  :  []\n",
      "waterdog  :  ['spanish']\n",
      "weimaraner  :  []\n",
      "whippet  :  []\n",
      "wolfhound  :  ['irish']\n"
     ]
    }
   ],
   "source": [
    "#Dog API\n",
    "response=requests.get('https://dog.ceo/api/breeds/list/all')\n",
    "python_data=response.json()\n",
    "#print(python_data)\n",
    "print(type(python_data))\n",
    "#extract all breed of dog\n",
    "for key,value in python_data['message'].items():\n",
    "    print(key,\" : \",value)"
   ]
  },
  {
   "cell_type": "code",
   "execution_count": 26,
   "metadata": {},
   "outputs": [
    {
     "name": "stdout",
     "output_type": "stream",
     "text": [
      "{'meta': {'name': 'openaq-api', 'license': 'CC BY 4.0', 'website': 'https://docs.openaq.org/', 'page': 1, 'limit': 100, 'found': 3}, 'results': [{'country': 'AE', 'name': 'Abu Dhabi', 'city': 'Abu Dhabi', 'count': 35888, 'locations': 1}, {'country': 'AE', 'name': 'Dubai', 'city': 'Dubai', 'count': 28967, 'locations': 1}, {'country': 'AE', 'name': 'N/A', 'city': 'N/A', 'count': 16799, 'locations': 2}]}\n",
      "https://api.openaq.org/v1/cities?country=AE\n"
     ]
    }
   ],
   "source": [
    "#CitiesAPI\n",
    "#params parameter\n",
    "response=requests.get('https://api.openaq.org/v1/cities',params={'country':'AE'})\n",
    "print(response.json())\n",
    "print(response.url)#the url on which the requests has been made"
   ]
  },
  {
   "cell_type": "code",
   "execution_count": 29,
   "metadata": {
    "scrolled": true
   },
   "outputs": [
    {
     "name": "stdout",
     "output_type": "stream",
     "text": [
      "200\n",
      "https://www.metaweather.com/api/location/search/?query=delhi\n"
     ]
    }
   ],
   "source": [
    "#weatherAPI\n",
    "response=requests.get('https://www.metaweather.com/api/location/search/',params={'query':'delhi'})\n",
    "print(response.status_code)\n",
    "print(response.url)"
   ]
  },
  {
   "cell_type": "code",
   "execution_count": 32,
   "metadata": {
    "scrolled": true
   },
   "outputs": [
    {
     "name": "stdout",
     "output_type": "stream",
     "text": [
      "200\n",
      "https://api.nasa.gov/planetary/apod?api_key=DEMO_KEY\n"
     ]
    }
   ],
   "source": [
    "#NasaAPI\n",
    "response=requests.get('https://api.nasa.gov/planetary/apod',params={'api_key':'DEMO_KEY'})\n",
    "print(response.status_code)\n",
    "print(response.url)"
   ]
  },
  {
   "cell_type": "code",
   "execution_count": 36,
   "metadata": {},
   "outputs": [
    {
     "name": "stdout",
     "output_type": "stream",
     "text": [
      "200\n",
      "{\n",
      "  \"args\": {}, \n",
      "  \"data\": \"\", \n",
      "  \"files\": {}, \n",
      "  \"form\": {}, \n",
      "  \"headers\": {\n",
      "    \"Accept\": \"*/*\", \n",
      "    \"Accept-Encoding\": \"gzip, deflate\", \n",
      "    \"Content-Length\": \"0\", \n",
      "    \"Host\": \"httpbin.org\", \n",
      "    \"User-Agent\": \"python-requests/2.22.0\", \n",
      "    \"X-Amzn-Trace-Id\": \"Root=1-5eb5bd51-4c6021ae77bc724c8259f970\"\n",
      "  }, \n",
      "  \"json\": null, \n",
      "  \"origin\": \"47.30.200.86\", \n",
      "  \"url\": \"http://httpbin.org/post\"\n",
      "}\n",
      "\n"
     ]
    }
   ],
   "source": [
    "#post\n",
    "response=requests.post('http://httpbin.org/post')\n",
    "print(response.status_code)\n",
    "print(response.text)"
   ]
  },
  {
   "cell_type": "code",
   "execution_count": 37,
   "metadata": {},
   "outputs": [
    {
     "name": "stdout",
     "output_type": "stream",
     "text": [
      "200\n",
      "{\n",
      "  \"args\": {}, \n",
      "  \"data\": \"\", \n",
      "  \"files\": {}, \n",
      "  \"form\": {\n",
      "    \"key1\": \"val1\", \n",
      "    \"key2\": \"val2\"\n",
      "  }, \n",
      "  \"headers\": {\n",
      "    \"Accept\": \"*/*\", \n",
      "    \"Accept-Encoding\": \"gzip, deflate\", \n",
      "    \"Content-Length\": \"19\", \n",
      "    \"Content-Type\": \"application/x-www-form-urlencoded\", \n",
      "    \"Host\": \"httpbin.org\", \n",
      "    \"User-Agent\": \"python-requests/2.22.0\", \n",
      "    \"X-Amzn-Trace-Id\": \"Root=1-5eb5c079-b8c80bdcc62e4deb4d036897\"\n",
      "  }, \n",
      "  \"json\": null, \n",
      "  \"origin\": \"47.30.200.86\", \n",
      "  \"url\": \"http://httpbin.org/post\"\n",
      "}\n",
      "\n"
     ]
    }
   ],
   "source": [
    "response=requests.post('http://httpbin.org/post',data={'key1':'val1','key2':'val2'})\n",
    "print(response.status_code)\n",
    "print(response.text)"
   ]
  },
  {
   "cell_type": "code",
   "execution_count": 38,
   "metadata": {},
   "outputs": [
    {
     "name": "stdout",
     "output_type": "stream",
     "text": [
      "200\n",
      "{\n",
      "  \"args\": {}, \n",
      "  \"data\": \"\", \n",
      "  \"files\": {}, \n",
      "  \"form\": {\n",
      "    \"key1\": [\n",
      "      \"val1\", \n",
      "      \"val2\"\n",
      "    ], \n",
      "    \"key2\": \"val2\"\n",
      "  }, \n",
      "  \"headers\": {\n",
      "    \"Accept\": \"*/*\", \n",
      "    \"Accept-Encoding\": \"gzip, deflate\", \n",
      "    \"Content-Length\": \"29\", \n",
      "    \"Content-Type\": \"application/x-www-form-urlencoded\", \n",
      "    \"Host\": \"httpbin.org\", \n",
      "    \"User-Agent\": \"python-requests/2.22.0\", \n",
      "    \"X-Amzn-Trace-Id\": \"Root=1-5eb5c092-43b3ba9e49d3944360a4e69c\"\n",
      "  }, \n",
      "  \"json\": null, \n",
      "  \"origin\": \"47.30.200.86\", \n",
      "  \"url\": \"http://httpbin.org/post\"\n",
      "}\n",
      "\n"
     ]
    }
   ],
   "source": [
    "response=requests.post('http://httpbin.org/post',data={'key1':['val1','val2'],'key2':'val2'})\n",
    "print(response.status_code)\n",
    "print(response.text)"
   ]
  },
  {
   "cell_type": "code",
   "execution_count": 39,
   "metadata": {},
   "outputs": [
    {
     "name": "stdout",
     "output_type": "stream",
     "text": [
      "200\n",
      "{\n",
      "  \"args\": {}, \n",
      "  \"data\": \"\", \n",
      "  \"files\": {}, \n",
      "  \"form\": {\n",
      "    \"key1\": \"val1\", \n",
      "    \"key2\": \"val2\", \n",
      "    \"key3\": \"val3\"\n",
      "  }, \n",
      "  \"headers\": {\n",
      "    \"Accept\": \"*/*\", \n",
      "    \"Accept-Encoding\": \"gzip, deflate\", \n",
      "    \"Content-Length\": \"29\", \n",
      "    \"Content-Type\": \"application/x-www-form-urlencoded\", \n",
      "    \"Host\": \"httpbin.org\", \n",
      "    \"User-Agent\": \"python-requests/2.22.0\", \n",
      "    \"X-Amzn-Trace-Id\": \"Root=1-5eb5c0cb-3ece77f4f14e0120e0ed995c\"\n",
      "  }, \n",
      "  \"json\": null, \n",
      "  \"origin\": \"47.30.200.86\", \n",
      "  \"url\": \"http://httpbin.org/post\"\n",
      "}\n",
      "\n"
     ]
    }
   ],
   "source": [
    "response=requests.post('http://httpbin.org/post',data=[('key1','val1'),('key2','val2'),('key3','val3')])\n",
    "print(response.status_code)\n",
    "print(response.text)"
   ]
  }
 ],
 "metadata": {
  "kernelspec": {
   "display_name": "Python 3",
   "language": "python",
   "name": "python3"
  },
  "language_info": {
   "codemirror_mode": {
    "name": "ipython",
    "version": 3
   },
   "file_extension": ".py",
   "mimetype": "text/x-python",
   "name": "python",
   "nbconvert_exporter": "python",
   "pygments_lexer": "ipython3",
   "version": "3.7.6"
  }
 },
 "nbformat": 4,
 "nbformat_minor": 4
}
